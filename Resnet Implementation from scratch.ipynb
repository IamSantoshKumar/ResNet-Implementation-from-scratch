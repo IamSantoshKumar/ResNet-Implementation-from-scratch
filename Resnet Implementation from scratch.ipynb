{
 "cells": [
  {
   "cell_type": "code",
   "execution_count": 353,
   "id": "5d08ce9c",
   "metadata": {},
   "outputs": [],
   "source": [
    "import torch\n",
    "import torch.nn as nn"
   ]
  },
  {
   "cell_type": "code",
   "execution_count": 364,
   "id": "8e0a6d34",
   "metadata": {},
   "outputs": [],
   "source": [
    "#Separated the Identity block and conv block for better understanding, We can modularize it if required\n",
    "# @Santosh\n",
    "\n",
    "class IdentityBlock(nn.Module):\n",
    "    def __init__(self, in_channels, out_channels, stride=1):\n",
    "        super(IdentityBlock, self).__init__()\n",
    "        self.conv1 = nn.Conv2d(\n",
    "                               in_channels=in_channels,\n",
    "                               out_channels=out_channels,\n",
    "                               kernel_size=1,\n",
    "                               stride=1, \n",
    "                               padding=0,\n",
    "                               bias=False\n",
    "        )\n",
    "        self.batch_norm1 = nn.BatchNorm2d(out_channels)\n",
    "        self.conv2 = nn.Conv2d(\n",
    "                               in_channels=out_channels,\n",
    "                               out_channels=out_channels,\n",
    "                               kernel_size=3,\n",
    "                               stride=stride,\n",
    "                               padding=1,\n",
    "                               bias=False\n",
    "        )\n",
    "        self.batch_norm2 = nn.BatchNorm2d(out_channels)\n",
    "        self.conv3 = nn.Conv2d(\n",
    "                              in_channels=out_channels,\n",
    "                              out_channels=out_channels*4,\n",
    "                              kernel_size=1,\n",
    "                              stride=1,\n",
    "                              padding=0,\n",
    "                              bias=False\n",
    "        )\n",
    "        self.batch_norm3 = nn.BatchNorm2d(out_channels*4)\n",
    "        self.relu = nn.ReLU()\n",
    "        \n",
    "    def forward(self, x):\n",
    "        identity = x.clone()\n",
    "        x = self.conv1(x)\n",
    "        x = self.batch_norm1(x)\n",
    "        x = self.relu(x)\n",
    "        x = self.conv2(x)\n",
    "        x = self.batch_norm2(x)\n",
    "        x = self.relu(x)\n",
    "        x = self.conv3(x)\n",
    "        x = self.batch_norm3(x)\n",
    "        x += identity\n",
    "        x = self.relu(x)\n",
    "        return x"
   ]
  },
  {
   "cell_type": "code",
   "execution_count": 366,
   "id": "9883230c",
   "metadata": {},
   "outputs": [],
   "source": [
    "class ConvBlock(nn.Module):\n",
    "    def __init__(self, in_channels, out_channels, stride=1):\n",
    "        super(ConvBlock, self).__init__()\n",
    "        self.conv1 = nn.Conv2d(\n",
    "                               in_channels=in_channels,\n",
    "                               out_channels=out_channels,\n",
    "                               kernel_size=1,\n",
    "                               stride=1, \n",
    "                               padding=0,\n",
    "                               bias=False\n",
    "        )\n",
    "        self.batch_norm1 = nn.BatchNorm2d(out_channels)\n",
    "        self.conv2 = nn.Conv2d(\n",
    "                               in_channels=out_channels,\n",
    "                               out_channels=out_channels,\n",
    "                               kernel_size=3,\n",
    "                               stride=stride,\n",
    "                               padding=1,\n",
    "                               bias=False\n",
    "        )\n",
    "        self.batch_norm2 = nn.BatchNorm2d(out_channels)\n",
    "        self.conv3 = nn.Conv2d(\n",
    "                              in_channels=out_channels,\n",
    "                              out_channels=out_channels*4,\n",
    "                              kernel_size=1,\n",
    "                              stride=1,\n",
    "                              padding=0,\n",
    "                              bias=False\n",
    "        )\n",
    "        self.batch_norm3 = nn.BatchNorm2d(out_channels*4)\n",
    "        \n",
    "        self.conv4 = nn.Conv2d(\n",
    "                              in_channels=in_channels,\n",
    "                              out_channels=out_channels*4,\n",
    "                              kernel_size=1,\n",
    "                              stride=stride,\n",
    "                              bias=False\n",
    "        )\n",
    "        self.batch_norm4 = nn.BatchNorm2d(out_channels*4)\n",
    "        \n",
    "        self.relu = nn.ReLU()\n",
    "        \n",
    "    def forward(self, x):\n",
    "        identity = x.clone()\n",
    "        x = self.conv1(x)\n",
    "        x = self.batch_norm1(x)\n",
    "        x = self.relu(x)\n",
    "        x = self.conv2(x)\n",
    "        x = self.batch_norm2(x)\n",
    "        x = self.relu(x)\n",
    "        x = self.conv3(x)\n",
    "        x = self.batch_norm3(x)\n",
    "        \n",
    "        down_sample = self.conv4(identity)\n",
    "        down_sample = self.batch_norm4(down_sample)       \n",
    "            \n",
    "        x += down_sample\n",
    "        x = self.relu(x)\n",
    "        return x"
   ]
  },
  {
   "cell_type": "code",
   "execution_count": 370,
   "id": "befaae04",
   "metadata": {},
   "outputs": [],
   "source": [
    "class ResNet(nn.Module):\n",
    "    def __init__(self, layers=None, num_classes=None):\n",
    "        super(ResNet, self).__init__()\n",
    "        self.in_channels = 64\n",
    "        self.conv1 = nn.Conv2d(\n",
    "            in_channels=3,\n",
    "            out_channels=64,\n",
    "            kernel_size=7,\n",
    "            stride=2,\n",
    "            padding=3,\n",
    "            bias=False\n",
    "        )\n",
    "        \n",
    "        self.batch = nn.BatchNorm2d(64)\n",
    "        self.relu = nn.ReLU()\n",
    "        self.pool = nn.MaxPool2d(kernel_size=(3,3), stride=2, padding=1)\n",
    "        \n",
    "        self.layer1 = self.resnet_blocks(64, layers[0], 1) \n",
    "        self.layer2 = self.resnet_blocks(128, layers[1], 2)\n",
    "        self.layer3 = self.resnet_blocks(256, layers[2], 2)\n",
    "        self.layer4 = self.resnet_blocks(512, layers[3], 2)\n",
    "        \n",
    "        self.avgpool = nn.AdaptiveAvgPool2d((1, 1))\n",
    "        self.fc = nn.Linear(512 * 4, num_classes)\n",
    "        \n",
    "        \n",
    "    def resnet_blocks(self, out_channels, num_blocks, stride=1):\n",
    "        layers =  []\n",
    "\n",
    "        layers.append(\n",
    "            ConvBlock(self.in_channels, out_channels, stride)\n",
    "        )\n",
    "        \n",
    "        self.in_channels = out_channels * 4\n",
    "    \n",
    "        for _ in range(num_blocks-1):\n",
    "            layers.append(IdentityBlock(self.in_channels, out_channels))\n",
    "            \n",
    "        return nn.Sequential(*layers)    \n",
    "        \n",
    "    def forward(self, x):\n",
    "        x = self.conv1(x)\n",
    "        x = self.batch(x)\n",
    "        x = self.relu(x)\n",
    "        x = self.pool(x)\n",
    "        \n",
    "        x = self.layer1(x)\n",
    "        x = self.layer2(x)\n",
    "        x = self.layer3(x)\n",
    "        x = self.layer4(x)\n",
    "        x = self.avgpool(x)\n",
    "        x = x.reshape(x.shape[0], -1)\n",
    "        x = self.fc(x)\n",
    "        \n",
    "        return x\n",
    "        \n"
   ]
  },
  {
   "cell_type": "code",
   "execution_count": 371,
   "id": "b5612bf3",
   "metadata": {},
   "outputs": [],
   "source": [
    "def ResNet50(num_classes=1000):\n",
    "    return Resnet([3, 4, 6, 3], num_classes)\n",
    "\n",
    "def ResNet101(img_channel=3, num_classes=1000):\n",
    "    return ResNet([3, 4, 23, 3], num_classes)\n",
    "\n",
    "\n",
    "def ResNet152(num_classes=1000):\n",
    "    return ResNet([3, 8, 36, 3], num_classes)"
   ]
  },
  {
   "cell_type": "code",
   "execution_count": 374,
   "id": "76b4d138",
   "metadata": {},
   "outputs": [
    {
     "data": {
      "text/plain": [
       "torch.Size([1, 1000])"
      ]
     },
     "execution_count": 374,
     "metadata": {},
     "output_type": "execute_result"
    }
   ],
   "source": [
    "image = torch.randn(1,3,224,224)\n",
    "\n",
    "model = ResNet50(1000)\n",
    "model(image).shape"
   ]
  },
  {
   "cell_type": "code",
   "execution_count": 375,
   "id": "637daf1a",
   "metadata": {},
   "outputs": [
    {
     "data": {
      "text/plain": [
       "25557032"
      ]
     },
     "execution_count": 375,
     "metadata": {},
     "output_type": "execute_result"
    }
   ],
   "source": [
    "#Total trainable paratmeters\n",
    "sum([p.numel() for p in model.parameters() if p.requires_grad])"
   ]
  },
  {
   "cell_type": "code",
   "execution_count": null,
   "id": "eb86d3bf",
   "metadata": {},
   "outputs": [],
   "source": []
  }
 ],
 "metadata": {
  "kernelspec": {
   "display_name": "Python 3",
   "language": "python",
   "name": "python3"
  },
  "language_info": {
   "codemirror_mode": {
    "name": "ipython",
    "version": 3
   },
   "file_extension": ".py",
   "mimetype": "text/x-python",
   "name": "python",
   "nbconvert_exporter": "python",
   "pygments_lexer": "ipython3",
   "version": "3.7.10"
  }
 },
 "nbformat": 4,
 "nbformat_minor": 5
}
